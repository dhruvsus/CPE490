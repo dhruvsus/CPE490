{
 "cells": [
  {
   "cell_type": "markdown",
   "metadata": {},
   "source": [
    "## Lab 1\n",
    "#### [Documentation](./Lab1.txt)\n",
    "#### [Sample Input](./Sample.nn)\n",
    "#### [Training Data](./train.dat)"
   ]
  },
  {
   "cell_type": "code",
   "execution_count": 71,
   "metadata": {},
   "outputs": [],
   "source": [
    "import numpy as np\n",
    "import sys"
   ]
  },
  {
   "cell_type": "markdown",
   "metadata": {},
   "source": [
    "### Variables"
   ]
  },
  {
   "cell_type": "code",
   "execution_count": 82,
   "metadata": {},
   "outputs": [],
   "source": [
    "NMatrix, Nweight, values, dataInput,values=[],[],[],[],[]"
   ]
  },
  {
   "cell_type": "markdown",
   "metadata": {},
   "source": [
    "### Hardcoding argc"
   ]
  },
  {
   "cell_type": "code",
   "execution_count": 83,
   "metadata": {},
   "outputs": [],
   "source": [
    "NMatrix, values, dataInput,values=[],[],[],[]\n",
    "input,data='./Sample.nn','./test.dat'\n",
    "for line in open(input):\n",
    "    if(line.strip()):values.extend(list(map(int,list(filter(lambda x: x!='',(line.lstrip().rstrip().split(sep=' ')))))))\n",
    "for line in open(data):\n",
    "    if(line.strip()):dataInput.append(list(map(float,list(filter(lambda x: x!='',(line.lstrip().rstrip().split(sep=' ')))))))\n",
    "numinputs,numlayers=values.pop(0),values.pop(0)"
   ]
  },
  {
   "cell_type": "markdown",
   "metadata": {},
   "source": [
    "### Build Weight Matrix\n",
    "Dimensions= Number of neuronsX Number of inputs+1"
   ]
  },
  {
   "cell_type": "code",
   "execution_count": 84,
   "metadata": {},
   "outputs": [
    {
     "name": "stdout",
     "output_type": "stream",
     "text": [
      "[array([[  1,  -2,   3],\n",
      "       [ -4,   5,  -6],\n",
      "       [  7,  -8,   9],\n",
      "       [-10,  11,  12]]), array([[  1,  -2,   3,  -4,   5],\n",
      "       [ -6,   7,  -8,   9, -10],\n",
      "       [ 11, -12,  13, -14,  15]])]\n"
     ]
    }
   ],
   "source": [
    "for i in range(numlayers):\n",
    "    numNeurons=values.pop(0)\n",
    "    for i in range(numNeurons):\n",
    "        NMatrix,values=NMatrix+values[0:numinputs+1],values[numinputs+1:]\n",
    "    Nweight.append(np.asarray(NMatrix).reshape(numNeurons,numinputs+1))\n",
    "    NMatrix,numinputs=[],numNeurons\n",
    "print(Nweight)\n",
    "print(dataInput)"
   ]
  },
  {
   "cell_type": "code",
   "execution_count": null,
   "metadata": {},
   "outputs": [],
   "source": []
  }
 ],
 "metadata": {
  "kernelspec": {
   "display_name": "Python 3",
   "language": "python",
   "name": "python3"
  },
  "language_info": {
   "codemirror_mode": {
    "name": "ipython",
    "version": 3
   },
   "file_extension": ".py",
   "mimetype": "text/x-python",
   "name": "python",
   "nbconvert_exporter": "python",
   "pygments_lexer": "ipython3",
   "version": "3.6.4"
  }
 },
 "nbformat": 4,
 "nbformat_minor": 2
}
