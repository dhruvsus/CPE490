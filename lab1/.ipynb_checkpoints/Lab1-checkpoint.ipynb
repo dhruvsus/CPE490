{
 "cells": [
  {
   "cell_type": "markdown",
   "metadata": {},
   "source": [
    "## Lab 1\n",
    "#### [Documentation](./Lab1.txt)\n",
    "#### [Sample Input](./Sample.nn)\n",
    "#### [Training Data](./train.dat)"
   ]
  },
  {
   "cell_type": "code",
   "execution_count": null,
   "metadata": {},
   "outputs": [],
   "source": [
    "import numpy as np\n",
    "import sys"
   ]
  },
  {
   "cell_type": "markdown",
   "metadata": {},
   "source": [
    "### Variables"
   ]
  },
  {
   "cell_type": "code",
   "execution_count": null,
   "metadata": {},
   "outputs": [],
   "source": [
    "n_matrix, n_weight, values, data_input, output=[],[],[],[],[]"
   ]
  },
  {
   "cell_type": "markdown",
   "metadata": {},
   "source": [
    "### Hardcoding argc"
   ]
  },
  {
   "cell_type": "code",
   "execution_count": null,
   "metadata": {},
   "outputs": [],
   "source": [
    "n_matrix, n_weight, values, data_input, output=[],[],[],[],[]\n",
    "input,data='./Sample.nn','./test.dat'\n",
    "for line in open(input):\n",
    "    if(line.strip()):values.extend(list(map(int,list(filter(lambda x: x!='',(line.lstrip().rstrip().split(sep=' ')))))))\n",
    "for line in open(data):\n",
    "    if(line.strip()):data_input.append(list(map(float,list(filter(lambda x: x!='',(line.lstrip().rstrip().split(sep=' '))))))+[1])\n",
    "num_inputs,num_layers=values.pop(0),values.pop(0)\n",
    "data_input=list(map(np.asarray,data_input))"
   ]
  },
  {
   "cell_type": "markdown",
   "metadata": {},
   "source": [
    "### Build Weight Matrix\n",
    "Dimensions= Number of neuronsX Number of inputs+1"
   ]
  },
  {
   "cell_type": "code",
   "execution_count": null,
   "metadata": {},
   "outputs": [],
   "source": [
    "n_matrix, n_weight, values, data_input, output=[],[],[],[],[]\n",
    "input,data='./Sample.nn','./test.dat'\n",
    "for line in open(input):\n",
    "    if(line.strip()):values.extend(list(map(int,list(filter(lambda x: x!='',(line.lstrip().rstrip().split(sep=' ')))))))\n",
    "for line in open(data):\n",
    "    if(line.strip()):data_input.append(list(map(float,list(filter(lambda x: x!='',(line.lstrip().rstrip().split(sep=' '))))))+[1])\n",
    "num_inputs,num_layers=values.pop(0),values.pop(0)\n",
    "data_input=list(map(np.asarray,data_input))\n",
    "for i in range(num_layers):\n",
    "    num_neurons=values.pop(0)\n",
    "    for i in range(num_neurons):\n",
    "        n_matrix,values=n_matrix+values[0:num_inputs+1],values[num_inputs+1:]\n",
    "    n_weight.append(np.asarray(n_matrix).reshape(num_neurons,num_inputs+1))\n",
    "    n_matrix,num_inputs=[],num_neurons"
   ]
  },
  {
   "cell_type": "markdown",
   "metadata": {},
   "source": [
    "### Data Structures\n",
    "n_weight: 1,Number of Layers\n",
    "data_input: 1,Number of inputs\n",
    "Todo: Run input through layers with heavyside.\n",
    "How? \n",
    "Ideas: List comprehension over elements of data_input, mapping a lambda that is defined as a list comprehension over layers"
   ]
  },
  {
   "cell_type": "code",
   "execution_count": null,
   "metadata": {},
   "outputs": [],
   "source": [
    "import numpy as np\n",
    "np.set_printoptions(threshold=np.nan,floatmode='maxprec_equal')\n",
    "import sys\n",
    "n_matrix, n_weight, values, data_input, output=[],[],[],[],[]\n",
    "input,data='./Sample.nn','./test.dat'\n",
    "for line in open(input):\n",
    "    if(line.strip()):values.extend(list(map(int,list(filter(lambda x: x!='',(line.lstrip().rstrip().split(sep=' ')))))))\n",
    "for line in open(data):\n",
    "    if(line.strip()):data_input.append(list(map(float,list(filter(lambda x: x!='',(line.lstrip().rstrip().split(sep=' '))))))+[1])\n",
    "num_inputs,num_layers=values.pop(0),values.pop(0)\n",
    "data_input,data_input_copy=np.vstack(list(map(np.asarray,data_input))),np.copy(data_input)\n",
    "for i in range(num_layers):\n",
    "    num_neurons=values.pop(0)\n",
    "    for i in range(num_neurons):\n",
    "        n_matrix,values=n_matrix+values[0:num_inputs+1],values[num_inputs+1:]\n",
    "    n_weight.append(np.asarray(n_matrix).reshape(num_neurons,num_inputs+1))\n",
    "    n_matrix,num_inputs=[],num_neurons\n",
    "for layer in n_weight:\n",
    "    output=np.heaviside(np.transpose(np.matmul(layer,np.transpose(data_input))),0.5)\n",
    "    data_input=np.c_[ output, np.ones(data_input.shape[0]) ]\n",
    "data_input_copy=data_input_copy[:,0:-1]\n",
    "output=np.hstack((output,data_input_copy))\n",
    "np.savetxt(sys.stdout, output, fmt=\"%.1f\")"
   ]
  },
  {
   "cell_type": "code",
   "execution_count": null,
   "metadata": {},
   "outputs": [],
   "source": []
  }
 ],
 "metadata": {
  "kernelspec": {
   "display_name": "Python 3",
   "language": "python",
   "name": "python3"
  },
  "language_info": {
   "codemirror_mode": {
    "name": "ipython",
    "version": 3
   },
   "file_extension": ".py",
   "mimetype": "text/x-python",
   "name": "python",
   "nbconvert_exporter": "python",
   "pygments_lexer": "ipython3",
   "version": "3.6.4"
  }
 },
 "nbformat": 4,
 "nbformat_minor": 2
}
