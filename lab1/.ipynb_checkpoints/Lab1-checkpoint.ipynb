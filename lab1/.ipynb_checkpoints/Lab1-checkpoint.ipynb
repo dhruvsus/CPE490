{
 "cells": [
  {
   "cell_type": "markdown",
   "metadata": {},
   "source": [
    "## Lab 1\n",
    "#### [Documentation](./Lab1.txt)\n",
    "#### [Sample Input](./Sample.nn)\n",
    "#### [Training Data](./train.dat)"
   ]
  },
  {
   "cell_type": "code",
   "execution_count": 76,
   "metadata": {},
   "outputs": [],
   "source": [
    "import numpy as np\n",
    "import sys"
   ]
  },
  {
   "cell_type": "markdown",
   "metadata": {},
   "source": [
    "### Variables"
   ]
  },
  {
   "cell_type": "code",
   "execution_count": 83,
   "metadata": {},
   "outputs": [],
   "source": [
    "NMatrix, values, dataInput={},[],[]"
   ]
  },
  {
   "cell_type": "markdown",
   "metadata": {},
   "source": [
    "### Hardcoding argc"
   ]
  },
  {
   "cell_type": "code",
   "execution_count": 81,
   "metadata": {},
   "outputs": [
    {
     "name": "stdout",
     "output_type": "stream",
     "text": [
      "[['93.0' '28.0']\n",
      " ['58.0' '-91.0']\n",
      " ['78.0' '51.0']\n",
      " ...\n",
      " ['68.0' '5.0']\n",
      " ['-33.0' '57.0']\n",
      " ['-38.0' '47.0']]\n"
     ]
    }
   ],
   "source": [
    "input='./Sample.nn'\n",
    "data='./trainN.dat'\n",
    "for line in open(input):\n",
    "    if(line.strip()):values.extend((list(filter(lambda x: x!='',(line.lstrip().rstrip().split(sep=' '))))))\n",
    "#numinputs,numlayers=values.pop(0),values.pop(0)\n",
    "for line in open(data):\n",
    "    if(line.strip()):dataInput.append((list(filter(lambda x: x!='',(line.lstrip().rstrip().split(sep=' '))))))\n",
    "print(np.asarray(dataInput))"
   ]
  },
  {
   "cell_type": "code",
   "execution_count": null,
   "metadata": {},
   "outputs": [],
   "source": []
  },
  {
   "cell_type": "code",
   "execution_count": null,
   "metadata": {},
   "outputs": [],
   "source": []
  }
 ],
 "metadata": {
  "kernelspec": {
   "display_name": "Python 3",
   "language": "python",
   "name": "python3"
  },
  "language_info": {
   "codemirror_mode": {
    "name": "ipython",
    "version": 3
   },
   "file_extension": ".py",
   "mimetype": "text/x-python",
   "name": "python",
   "nbconvert_exporter": "python",
   "pygments_lexer": "ipython3",
   "version": "3.6.4"
  }
 },
 "nbformat": 4,
 "nbformat_minor": 2
}
