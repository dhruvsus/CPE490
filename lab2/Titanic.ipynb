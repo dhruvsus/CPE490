{
 "cells": [
  {
   "cell_type": "markdown",
   "metadata": {},
   "source": [
    "### Massaging the Data\n",
    "Write Python code to convert the Titanic training data into a form suitable for neural network analysis. Pick 7 properties to use, so your input will have shape (*, 7). Several points to consider:\n",
    "\n",
    "Decide how to handle missing age data. This may involve adding another property, which can be one of your 7.\n",
    "Deal with the parsing hassles, especially those surrounding passenger names. Your program should read the original csv from Kaggle, not a hand-tweaked file. This parsing is a basic Python coding problem, but it is exemplary of the \"rusty plumbing\" work that often comes with processing a data set for machine learning.\n",
    "Rework the data into normal distributions with mean 0 and std 1."
   ]
  },
  {
   "cell_type": "markdown",
   "metadata": {},
   "source": [
    "#### Imports"
   ]
  },
  {
   "cell_type": "code",
   "execution_count": 1,
   "metadata": {},
   "outputs": [
    {
     "name": "stderr",
     "output_type": "stream",
     "text": [
      "Using TensorFlow backend.\n"
     ]
    }
   ],
   "source": [
    "import numpy as np\n",
    "import csv\n",
    "from keras import models, layers\n",
    "from keras.models import Sequential\n",
    "from keras.layers import Dense, Dropout\n",
    "from matplotlib import pyplot as plt\n",
    "np.set_printoptions(threshold=np.nan)"
   ]
  },
  {
   "cell_type": "markdown",
   "metadata": {},
   "source": [
    "#### Massage\n",
    "Create a PeopleSet class that stores the values for a Titanic data set of people, either the training set or the test set. PeopleSet's properties include an array of ids, an array of labels (if available) and a tensor of input properties. Each of these have the same length (or 0-dimension length for the tensor) with one entry for each sample. The latter two are ndarrays suitable for use in training a Keras model. PeopleSet has a method that takes a list of CSV file lines of the format provided by Kaggle, and populates its properties by parsing those lines. You may use Python's CSV library, but the parameter passed should still be an iterable list of strings; don't assume in PeopleSet that the data is coming from a file."
   ]
  },
  {
   "cell_type": "code",
   "execution_count": 2,
   "metadata": {},
   "outputs": [],
   "source": [
    "class PeopleSet:\n",
    "    def __init__(self):\n",
    "        self.ids = None\n",
    "        self.labels = None\n",
    "        self.input_properties = None\n",
    "\n",
    "    def __eq__(self, other):\n",
    "        return ((type(other) == PeopleSet)\n",
    "          and self.ids == other.ids\n",
    "          and self.labels == other.labels\n",
    "          and self.input_properties == other.input_properties\n",
    "        )\n",
    "\n",
    "    def __repr__(self):\n",
    "        return (\"PeopleSet({!r}, {!r}, {!r})\".format(self.ids, self.labels, self.input_properties))\n",
    "    \n",
    "    def fixInput(self,input_properties):\n",
    "        sex={'female':'0','male':'1'}\n",
    "        embark={'C':'0','S':'1','Q':'2','':'3'}\n",
    "        input_properties[:,1]=np.vectorize(sex.__getitem__)(input_properties[:,1])\n",
    "        input_properties[:,6]=np.vectorize(embark.__getitem__)(input_properties[:,6])\n",
    "        np.putmask(input_properties,input_properties=='',0)\n",
    "        return input_properties.astype(float)\n",
    "    \n",
    "    def normalize(self,toNormalize):\n",
    "        return (toNormalize-np.mean(toNormalize,axis=0))/np.std(toNormalize,axis=0)\n",
    "    \n",
    "    def populate(self,iterCSV):\n",
    "        inter_csv_list=np.asarray(list(iterCSV))\n",
    "        self.ids=inter_csv_list[1:,np.where(inter_csv_list=='PassengerId')[1]].astype(int)\n",
    "        self.labels=inter_csv_list[1:,np.where(inter_csv_list=='Survived')[1]].astype(int)\n",
    "        pClassIndex=np.where(inter_csv_list=='Pclass')[1]\n",
    "        inputProperties=[pClassIndex,pClassIndex+2,pClassIndex+3,pClassIndex+4,pClassIndex+5,pClassIndex+7,pClassIndex+9]\n",
    "        self.input_properties=np.hstack(inter_csv_list[1:,inputProperties]).T\n",
    "        self.input_properties=self.fixInput(self.input_properties)\n",
    "        self.input_properties=self.normalize(self.input_properties)\n"
   ]
  },
  {
   "cell_type": "markdown",
   "metadata": {},
   "source": [
    "#### Populate train data"
   ]
  },
  {
   "cell_type": "code",
   "execution_count": 3,
   "metadata": {},
   "outputs": [],
   "source": [
    "with open('train.csv') as csvfile:\n",
    "    iterCSV=csv.reader(csvfile)\n",
    "    train=PeopleSet()\n",
    "    train.populate(iterCSV)"
   ]
  },
  {
   "cell_type": "markdown",
   "metadata": {},
   "source": [
    "#### Testing Parameters\n",
    "You'll set up a neural network to analyze the Titanic data, with a single output node using a sigmoid activation. Explore the effectiveness of a variety of configurations -- number of layers, internal activation functions, dimension of layers, etc. Design a K-fold validation test system for this, using the Houses.py class example as a basis. Your system should allow you to quickly try out a variety of architectures, and determine both their loss and the number of epochs needed to fit them without overfitting. Find the simplest NN configuration that gets you an RSE loss of .14 or less on average across the folds.\n",
    "\n",
    "Write a brief text file describing which configurations you tried, and which one you settled on. Just a few lines is sufficient."
   ]
  },
  {
   "cell_type": "code",
   "execution_count": 5,
   "metadata": {},
   "outputs": [
    {
     "name": "stdout",
     "output_type": "stream",
     "text": [
      "[0.425262885093689, 0.3866872310638428, 0.36268121480941773, 0.3481245732307434, 0.33217116951942444, 0.32541739344596865, 0.31924388885498045, 0.31113938331604, 0.3087803041934967, 0.3107841753959656, 0.3060558032989502, 0.3040992498397827, 0.3009436821937561, 0.2998268234729767, 0.3004181003570557, 0.2998736262321472, 0.3000803279876709, 0.30127473950386047, 0.2978949522972107, 0.29576035976409915]\n",
      "[0.4530835485458374, 0.4145196282863617, 0.3812751436233521, 0.35073917627334594, 0.3285225009918213, 0.31549548745155337, 0.303056161403656, 0.29387557148933413, 0.28550135016441347, 0.28506672382354736, 0.2822572302818298, 0.27577371180057525, 0.27510777533054354, 0.2758188772201538, 0.27431276202201843, 0.27154368758201597, 0.27145708799362184, 0.2702489930391312, 0.2694770300388336, 0.2706987750530243]\n",
      "[0.4205788254737854, 0.39196258783340454, 0.37142896771430967, 0.3480063533782959, 0.3348101270198822, 0.32783386468887327, 0.32003545165061953, 0.31424850344657895, 0.311393711566925, 0.3044948709011078, 0.30393019676208494, 0.30036959290504456, 0.29934908628463747, 0.2994313049316406, 0.3004065656661987, 0.29933887243270874, 0.2972065019607544, 0.2983804082870483, 0.2996408748626709, 0.29376322507858277]\n",
      "[0.43187390208244325, 0.401563732624054, 0.3733867347240448, 0.35017252922058106, 0.3318408000469208, 0.3166985988616943, 0.3057055735588074, 0.2965090835094452, 0.2945102119445801, 0.2903529477119446, 0.2870749855041504, 0.28473749160766604, 0.2839470601081848, 0.28226849794387815, 0.28226888000965117, 0.28283639788627624, 0.2815334838628769, 0.27785141944885255, 0.2771060538291931, 0.27769468128681185]\n",
      "[[0.425262885093689, 0.3866872310638428, 0.36268121480941773, 0.3481245732307434, 0.33217116951942444, 0.32541739344596865, 0.31924388885498045, 0.31113938331604, 0.3087803041934967, 0.3107841753959656, 0.3060558032989502, 0.3040992498397827, 0.3009436821937561, 0.2998268234729767, 0.3004181003570557, 0.2998736262321472, 0.3000803279876709, 0.30127473950386047, 0.2978949522972107, 0.29576035976409915], [0.4530835485458374, 0.4145196282863617, 0.3812751436233521, 0.35073917627334594, 0.3285225009918213, 0.31549548745155337, 0.303056161403656, 0.29387557148933413, 0.28550135016441347, 0.28506672382354736, 0.2822572302818298, 0.27577371180057525, 0.27510777533054354, 0.2758188772201538, 0.27431276202201843, 0.27154368758201597, 0.27145708799362184, 0.2702489930391312, 0.2694770300388336, 0.2706987750530243], [0.4205788254737854, 0.39196258783340454, 0.37142896771430967, 0.3480063533782959, 0.3348101270198822, 0.32783386468887327, 0.32003545165061953, 0.31424850344657895, 0.311393711566925, 0.3044948709011078, 0.30393019676208494, 0.30036959290504456, 0.29934908628463747, 0.2994313049316406, 0.3004065656661987, 0.29933887243270874, 0.2972065019607544, 0.2983804082870483, 0.2996408748626709, 0.29376322507858277], [0.43187390208244325, 0.401563732624054, 0.3733867347240448, 0.35017252922058106, 0.3318408000469208, 0.3166985988616943, 0.3057055735588074, 0.2965090835094452, 0.2945102119445801, 0.2903529477119446, 0.2870749855041504, 0.28473749160766604, 0.2839470601081848, 0.28226849794387815, 0.28226888000965117, 0.28283639788627624, 0.2815334838628769, 0.27785141944885255, 0.2771060538291931, 0.27769468128681185]]\n"
     ]
    },
    {
     "data": {
      "image/png": "[encoded data removed]",
      "text/plain": [
       "<Figure size 432x288 with 1 Axes>"
      ]
     },
     "metadata": {},
     "output_type": "display_data"
    }
   ],
   "source": [
    "def build_and_train_model(train_data, train_targets, val_data, val_targets, num_epochs, batch_size):\n",
    "    model = models.Sequential()\n",
    "    model.add(layers.Dense(64, activation='relu', input_shape=(train_data.shape[1],)))\n",
    "    model.add(Dropout(0.5))\n",
    "    model.add(Dense(64, activation='relu'))\n",
    "    model.add(Dropout(0.5))\n",
    "    model.add(Dense(1, activation='sigmoid'))\n",
    "    model.compile(loss='binary_crossentropy',\n",
    "              optimizer='rmsprop',\n",
    "              metrics=['mae'])\n",
    "    history = model.fit(train_data, train_targets, \n",
    "     validation_data = (val_data, val_targets),\n",
    "     epochs=num_epochs, batch_size=batch_size, verbose = 0)\n",
    "     \n",
    "    return (model, history.history['val_mean_absolute_error'])\n",
    "\n",
    "def fold_test(train_data, train_targets, num_folds, num_epochs):\n",
    "    num_samples = train_data.shape[0]\n",
    "    val_size = num_samples // num_folds\n",
    "    batch_size = (num_samples - val_size) // 500 # Up to 500 batches, ....\n",
    "    batch_size = max(32, batch_size)             # but at least 32 samples, ...\n",
    "    batch_size = min(num_samples, batch_size)    # and no more than num_samples\n",
    "    mae_per_fold = []\n",
    "    \n",
    "    # Repeat test for each fold\n",
    "    for fold in range(num_folds):\n",
    "        val_data = train_data[fold*val_size : (fold+1)*val_size]\n",
    "        val_targets = train_targets[fold*val_size : (fold+1)*val_size]\n",
    "        \n",
    "        partial_train_data = np.concatenate(\n",
    "           [train_data[ :fold*val_size], train_data[(fold+1)*val_size: ]],\n",
    "           axis=0      # Concatenate along sample axis\n",
    "        )\n",
    "        \n",
    "        partial_train_targets = np.concatenate(\n",
    "           [train_targets[ :fold*val_size], train_targets[(fold+1)*val_size: ]],\n",
    "           axis=0      # Concatenate along sample axis\n",
    "        )\n",
    "\n",
    "        model, history = build_and_train_model(partial_train_data, partial_train_targets,\n",
    "         val_data, val_targets, num_epochs, batch_size)\n",
    "        \n",
    "        model.evaluate(val_data, val_targets, verbose=0)\n",
    "        mae_per_fold.append(history)\n",
    "        print(mae_per_fold[fold])        \n",
    "    return mae_per_fold\n",
    "        \n",
    "(train_data, train_targets), (test_data, test_targets) = (train.input_properties[:800,:],train.labels[:800,:]),(train.input_properties[800:,:],train.labels[800:,:])\n",
    "mean = train_data.mean(axis=0)      # Average corresponding values across sample axis\n",
    "train_data -= mean                  # Shift so average is zero\n",
    "\n",
    "std = train_data.std(axis=0)     \n",
    "train_data /= std                   # Scale so std = 1\n",
    "\n",
    "test_data = (test_data - mean)/std  # Test data uses train data parameters\n",
    "\n",
    "# print(train_data[0])\n",
    "# print(train_targets[0])\n",
    "# exit()\n",
    "\n",
    "mae_per_fold = fold_test(train_data, train_targets, 4, 20)\n",
    "\n",
    "print(mae_per_fold)\n",
    "\n",
    "for history in mae_per_fold:\n",
    "    plt.plot(range(1, len(history)+1), history)\n",
    "\n",
    "plt.xlabel('No of epochs')\n",
    "plt.ylabel('Validation MAE')\n",
    "plt.show()"
   ]
  },
  {
   "cell_type": "code",
   "execution_count": null,
   "metadata": {},
   "outputs": [],
   "source": []
  }
 ],
 "metadata": {
  "kernelspec": {
   "display_name": "Python 3",
   "language": "python",
   "name": "python3"
  },
  "language_info": {
   "codemirror_mode": {
    "name": "ipython",
    "version": 3
   },
   "file_extension": ".py",
   "mimetype": "text/x-python",
   "name": "python",
   "nbconvert_exporter": "python",
   "pygments_lexer": "ipython3",
   "version": "3.5.2"
  }
 },
 "nbformat": 4,
 "nbformat_minor": 2
}
